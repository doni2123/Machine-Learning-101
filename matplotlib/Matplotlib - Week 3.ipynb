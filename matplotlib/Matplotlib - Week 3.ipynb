{
 "cells": [
  {
   "cell_type": "code",
   "execution_count": 3,
   "id": "09a3d217-7284-4085-8813-7377e7685227",
   "metadata": {},
   "outputs": [],
   "source": [
    "%matplotlib widget\n",
    "import matplotlib.pyplot as plt\n",
    "import numpy as np"
   ]
  },
  {
   "cell_type": "code",
   "execution_count": 4,
   "id": "32c05cd9-706f-4905-b0e8-6071cd8c1418",
   "metadata": {},
   "outputs": [
    {
     "data": {
      "application/vnd.jupyter.widget-view+json": {
       "model_id": "28f208d521a74188a4d95c16b1fef9d1",
       "version_major": 2,
       "version_minor": 0
      },
      "text/plain": [
       "Canvas(toolbar=Toolbar(toolitems=[('Home', 'Reset original view', 'home', 'home'), ('Back', 'Back to previous …"
      ]
     },
     "metadata": {},
     "output_type": "display_data"
    },
    {
     "data": {
      "text/plain": [
       "[<matplotlib.lines.Line2D at 0x1b630a82850>]"
      ]
     },
     "execution_count": 4,
     "metadata": {},
     "output_type": "execute_result"
    }
   ],
   "source": [
    "plt.figure()\n",
    "plt.subplot(1, 2, 2)\n",
    "linear_data = np.array([1,2,3,4,5,6,7,8])\n",
    "plt.plot(linear_data, '-o')"
   ]
  },
  {
   "cell_type": "code",
   "execution_count": 5,
   "id": "f5dcc6fd-34e5-45b2-83e5-c3c9b04cea48",
   "metadata": {},
   "outputs": [
    {
     "data": {
      "text/plain": [
       "[<matplotlib.lines.Line2D at 0x1b630effa90>]"
      ]
     },
     "execution_count": 5,
     "metadata": {},
     "output_type": "execute_result"
    }
   ],
   "source": [
    "exponential_data = linear_data ** 2\n",
    "plt.subplot(1, 2, 2)\n",
    "plt.plot(exponential_data, '-o')"
   ]
  },
  {
   "cell_type": "code",
   "execution_count": 6,
   "id": "4c0578b9-b772-4ddf-be29-93bb8898683f",
   "metadata": {},
   "outputs": [
    {
     "data": {
      "text/plain": [
       "[<matplotlib.lines.Line2D at 0x1b630f3b8b0>]"
      ]
     },
     "execution_count": 6,
     "metadata": {},
     "output_type": "execute_result"
    }
   ],
   "source": [
    "plt.subplot(1,2,1)\n",
    "plt.plot(exponential_data, '-x')"
   ]
  },
  {
   "cell_type": "code",
   "execution_count": 7,
   "id": "f787996a-49b5-4e68-a757-ed8eb2807f1c",
   "metadata": {},
   "outputs": [
    {
     "data": {
      "application/vnd.jupyter.widget-view+json": {
       "model_id": "49ec67b2f2c54f908ff9bc90aa37f156",
       "version_major": 2,
       "version_minor": 0
      },
      "text/plain": [
       "Canvas(toolbar=Toolbar(toolitems=[('Home', 'Reset original view', 'home', 'home'), ('Back', 'Back to previous …"
      ]
     },
     "metadata": {},
     "output_type": "display_data"
    },
    {
     "data": {
      "text/plain": [
       "[<matplotlib.lines.Line2D at 0x1b630e24970>]"
      ]
     },
     "execution_count": 7,
     "metadata": {},
     "output_type": "execute_result"
    }
   ],
   "source": [
    "plt.figure()\n",
    "ax1 = plt.subplot(1, 2, 1)\n",
    "plt.plot(linear_data, '-o')\n",
    "ax2 = plt.subplot(1, 2, 2, sharey = ax1)\n",
    "plt.plot(exponential_data, '-o')"
   ]
  },
  {
   "cell_type": "code",
   "execution_count": 8,
   "id": "43e264a4-86d3-4e26-bfc1-536ead2bcd3c",
   "metadata": {},
   "outputs": [
    {
     "data": {
      "application/vnd.jupyter.widget-view+json": {
       "model_id": "bbe62ee8ec4640ae99a16f52a2ef93d8",
       "version_major": 2,
       "version_minor": 0
      },
      "text/plain": [
       "Canvas(toolbar=Toolbar(toolitems=[('Home', 'Reset original view', 'home', 'home'), ('Back', 'Back to previous …"
      ]
     },
     "metadata": {},
     "output_type": "display_data"
    },
    {
     "data": {
      "text/plain": [
       "True"
      ]
     },
     "execution_count": 8,
     "metadata": {},
     "output_type": "execute_result"
    }
   ],
   "source": [
    "plt.figure()\n",
    "plt.subplot(1, 2, 1) == plt.subplot(121)"
   ]
  },
  {
   "cell_type": "code",
   "execution_count": 9,
   "id": "2e39be1b-11a6-4c72-9adf-bdf97a92f87b",
   "metadata": {},
   "outputs": [
    {
     "data": {
      "application/vnd.jupyter.widget-view+json": {
       "model_id": "581e82ffe1254660a36ade0f6471dfac",
       "version_major": 2,
       "version_minor": 0
      },
      "text/plain": [
       "Canvas(toolbar=Toolbar(toolitems=[('Home', 'Reset original view', 'home', 'home'), ('Back', 'Back to previous …"
      ]
     },
     "metadata": {},
     "output_type": "display_data"
    },
    {
     "data": {
      "text/plain": [
       "[<matplotlib.lines.Line2D at 0x1b6313bdfd0>]"
      ]
     },
     "execution_count": 9,
     "metadata": {},
     "output_type": "execute_result"
    }
   ],
   "source": [
    "# create a 3x3 grid of subplots\n",
    "fig, ((ax1,ax2,ax3), (ax4,ax5,ax6), (ax7,ax8,ax9)) = plt.subplots(3, 3, sharex=True, sharey=True)\n",
    "# plot the linear_data on the 5th subplot axes \n",
    "ax5.plot(linear_data, '-')\n",
    "ax6.plot(exponential_data, 'x')"
   ]
  },
  {
   "cell_type": "code",
   "execution_count": 25,
   "id": "2170877e-dbb5-45f5-842b-148aafaee686",
   "metadata": {},
   "outputs": [],
   "source": [
    "# set inside tick labels to visible\n",
    "for ax in plt.gcf().get_axes():\n",
    "    for label in ax.get_xticklabels() + ax.get_yticklabels():\n",
    "        label.set_visible(True)"
   ]
  },
  {
   "cell_type": "code",
   "execution_count": 26,
   "id": "20953ca6-5c8b-4fd0-afd9-65c3386201a8",
   "metadata": {},
   "outputs": [],
   "source": [
    "plt.gcf().canvas.draw()"
   ]
  },
  {
   "cell_type": "markdown",
   "id": "218cf831-2cc4-4b84-bac5-23ff3704d67f",
   "metadata": {},
   "source": [
    "## Histograms"
   ]
  },
  {
   "cell_type": "code",
   "execution_count": 12,
   "id": "e2910405-8511-4618-a0fd-33efeab8bda1",
   "metadata": {},
   "outputs": [
    {
     "data": {
      "application/vnd.jupyter.widget-view+json": {
       "model_id": "fbacc900b4774d139dba7513146d599c",
       "version_major": 2,
       "version_minor": 0
      },
      "text/plain": [
       "Canvas(toolbar=Toolbar(toolitems=[('Home', 'Reset original view', 'home', 'home'), ('Back', 'Back to previous …"
      ]
     },
     "metadata": {},
     "output_type": "display_data"
    }
   ],
   "source": [
    "# create 2x2 grid of axis subplots\n",
    "fig, ((ax1, ax2), (ax3, ax4)) = plt.subplots(2, 2, sharex=True)\n",
    "axs = [ax1,ax2,ax3,ax4]\n",
    "\n",
    "# draw n = 10, 100, 1000, and 10000 samples from the normal distribution and plot corresponding histograms\n",
    "for n in range(0,len(axs)):\n",
    "    sample_size = 10**(n+1)\n",
    "    sample = np.random.normal(loc=0.0, scale=1.0, size=sample_size)\n",
    "    axs[n].hist(sample)\n",
    "    axs[n].set_title('n={}'.format(sample_size))"
   ]
  },
  {
   "cell_type": "code",
   "execution_count": 13,
   "id": "074e64ff-a855-4db7-9714-efac5fe85667",
   "metadata": {},
   "outputs": [
    {
     "data": {
      "application/vnd.jupyter.widget-view+json": {
       "model_id": "c4be24d3e80f4fdbb5589353d9993023",
       "version_major": 2,
       "version_minor": 0
      },
      "text/plain": [
       "Canvas(toolbar=Toolbar(toolitems=[('Home', 'Reset original view', 'home', 'home'), ('Back', 'Back to previous …"
      ]
     },
     "metadata": {},
     "output_type": "display_data"
    }
   ],
   "source": [
    "# repeat with number of bins set to 100\n",
    "fig, ((ax1, ax2), (ax3, ax4)) = plt.subplots(2, 2, sharex=True)\n",
    "axs = [ax1,ax2,ax3,ax4]\n",
    "\n",
    "for n in range(0,len(axs)):\n",
    "    sample_size = 10**(n+1)\n",
    "    sample = np.random.normal(loc=0.0, scale=1.0, size=sample_size)\n",
    "    axs[n].hist(sample, bins=100)\n",
    "    axs[n].set_title('n={}'.format(sample_size))"
   ]
  },
  {
   "cell_type": "code",
   "execution_count": 14,
   "id": "7bf4d992-fd00-4a63-bfba-22e5fd277077",
   "metadata": {},
   "outputs": [
    {
     "data": {
      "application/vnd.jupyter.widget-view+json": {
       "model_id": "937bac50b91f44a79bff9e63c0a9265e",
       "version_major": 2,
       "version_minor": 0
      },
      "text/plain": [
       "Canvas(toolbar=Toolbar(toolitems=[('Home', 'Reset original view', 'home', 'home'), ('Back', 'Back to previous …"
      ]
     },
     "metadata": {},
     "output_type": "display_data"
    },
    {
     "data": {
      "text/plain": [
       "<matplotlib.collections.PathCollection at 0x1b6334a5400>"
      ]
     },
     "execution_count": 14,
     "metadata": {},
     "output_type": "execute_result"
    }
   ],
   "source": [
    "plt.figure()\n",
    "Y = np.random.normal(loc=0.0, scale=1.0, size=10000)\n",
    "X = np.random.random(size=10000)\n",
    "plt.scatter(X,Y)"
   ]
  },
  {
   "cell_type": "code",
   "execution_count": 15,
   "id": "44489f21-2bbd-4562-b972-6b9140cabbe2",
   "metadata": {},
   "outputs": [
    {
     "data": {
      "application/vnd.jupyter.widget-view+json": {
       "model_id": "7d3fa7d2196c485ea8c5187370de4488",
       "version_major": 2,
       "version_minor": 0
      },
      "text/plain": [
       "Canvas(toolbar=Toolbar(toolitems=[('Home', 'Reset original view', 'home', 'home'), ('Back', 'Back to previous …"
      ]
     },
     "metadata": {},
     "output_type": "display_data"
    }
   ],
   "source": [
    "# use gridspec to partition the figure into subplots\n",
    "import matplotlib.gridspec as gridspec\n",
    "\n",
    "plt.figure()\n",
    "gspec = gridspec.GridSpec(3, 3)\n",
    "\n",
    "top_histogram = plt.subplot(gspec[0, 1:])\n",
    "side_histogram = plt.subplot(gspec[1:, 0])\n",
    "lower_right = plt.subplot(gspec[1:, 1:])"
   ]
  },
  {
   "cell_type": "code",
   "execution_count": 16,
   "id": "5c891947-a63b-416e-80b4-6e0577d285f1",
   "metadata": {},
   "outputs": [],
   "source": [
    "Y = np.random.normal(loc=0.0, scale=1.0, size=10000)\n",
    "X = np.random.random(size=10000)\n",
    "lower_right.scatter(X, Y, alpha = 0.4)\n",
    "top_histogram.hist(X, bins=100, alpha = 0.4)\n",
    "s = side_histogram.hist(Y, bins=100, orientation='horizontal', alpha = 0.4)"
   ]
  },
  {
   "cell_type": "code",
   "execution_count": 17,
   "id": "3f58d3a5-61f1-4ca5-b6a1-54c242d20ea8",
   "metadata": {},
   "outputs": [],
   "source": [
    "# clear the histograms and plot normed histograms\n",
    "top_histogram.clear()\n",
    "top_histogram.hist(X, bins=100, density=True, stacked=True)\n",
    "side_histogram.clear()\n",
    "side_histogram.hist(Y, bins=100, orientation='horizontal', density=True, stacked=True)\n",
    "# flip the side histogram's x axis\n",
    "side_histogram.invert_xaxis()"
   ]
  },
  {
   "cell_type": "code",
   "execution_count": 18,
   "id": "d56d3234-7b8b-4d68-8fcc-88afaee2813e",
   "metadata": {},
   "outputs": [],
   "source": [
    "# change axes limits\n",
    "for ax in [top_histogram, lower_right]:\n",
    "    ax.set_xlim(0, 1)\n",
    "for ax in [side_histogram, lower_right]:\n",
    "    ax.set_ylim(-5, 5)"
   ]
  },
  {
   "cell_type": "markdown",
   "id": "bcac936f-d547-47bd-844e-315ffeb757c1",
   "metadata": {
    "tags": []
   },
   "source": [
    "## Box and Whisker Plots"
   ]
  },
  {
   "cell_type": "code",
   "execution_count": 19,
   "id": "46ab8db8-3f6e-46b1-a40f-6db07bfd1967",
   "metadata": {},
   "outputs": [
    {
     "data": {
      "text/html": [
       "<div>\n",
       "<style scoped>\n",
       "    .dataframe tbody tr th:only-of-type {\n",
       "        vertical-align: middle;\n",
       "    }\n",
       "\n",
       "    .dataframe tbody tr th {\n",
       "        vertical-align: top;\n",
       "    }\n",
       "\n",
       "    .dataframe thead th {\n",
       "        text-align: right;\n",
       "    }\n",
       "</style>\n",
       "<table border=\"1\" class=\"dataframe\">\n",
       "  <thead>\n",
       "    <tr style=\"text-align: right;\">\n",
       "      <th></th>\n",
       "      <th>normal</th>\n",
       "      <th>random</th>\n",
       "      <th>gamma</th>\n",
       "    </tr>\n",
       "  </thead>\n",
       "  <tbody>\n",
       "    <tr>\n",
       "      <th>0</th>\n",
       "      <td>-0.675228</td>\n",
       "      <td>0.730149</td>\n",
       "      <td>0.138221</td>\n",
       "    </tr>\n",
       "    <tr>\n",
       "      <th>1</th>\n",
       "      <td>1.889681</td>\n",
       "      <td>0.454716</td>\n",
       "      <td>2.659849</td>\n",
       "    </tr>\n",
       "    <tr>\n",
       "      <th>2</th>\n",
       "      <td>0.394484</td>\n",
       "      <td>0.008562</td>\n",
       "      <td>1.125498</td>\n",
       "    </tr>\n",
       "    <tr>\n",
       "      <th>3</th>\n",
       "      <td>0.827152</td>\n",
       "      <td>0.746098</td>\n",
       "      <td>6.993924</td>\n",
       "    </tr>\n",
       "    <tr>\n",
       "      <th>4</th>\n",
       "      <td>2.116588</td>\n",
       "      <td>0.652328</td>\n",
       "      <td>1.301224</td>\n",
       "    </tr>\n",
       "    <tr>\n",
       "      <th>...</th>\n",
       "      <td>...</td>\n",
       "      <td>...</td>\n",
       "      <td>...</td>\n",
       "    </tr>\n",
       "    <tr>\n",
       "      <th>9995</th>\n",
       "      <td>-0.238281</td>\n",
       "      <td>0.601649</td>\n",
       "      <td>2.125707</td>\n",
       "    </tr>\n",
       "    <tr>\n",
       "      <th>9996</th>\n",
       "      <td>-0.442199</td>\n",
       "      <td>0.787223</td>\n",
       "      <td>4.497478</td>\n",
       "    </tr>\n",
       "    <tr>\n",
       "      <th>9997</th>\n",
       "      <td>0.481076</td>\n",
       "      <td>0.099779</td>\n",
       "      <td>3.561028</td>\n",
       "    </tr>\n",
       "    <tr>\n",
       "      <th>9998</th>\n",
       "      <td>0.128707</td>\n",
       "      <td>0.372057</td>\n",
       "      <td>0.987508</td>\n",
       "    </tr>\n",
       "    <tr>\n",
       "      <th>9999</th>\n",
       "      <td>1.477574</td>\n",
       "      <td>0.198018</td>\n",
       "      <td>1.337937</td>\n",
       "    </tr>\n",
       "  </tbody>\n",
       "</table>\n",
       "<p>10000 rows × 3 columns</p>\n",
       "</div>"
      ],
      "text/plain": [
       "        normal    random     gamma\n",
       "0    -0.675228  0.730149  0.138221\n",
       "1     1.889681  0.454716  2.659849\n",
       "2     0.394484  0.008562  1.125498\n",
       "3     0.827152  0.746098  6.993924\n",
       "4     2.116588  0.652328  1.301224\n",
       "...        ...       ...       ...\n",
       "9995 -0.238281  0.601649  2.125707\n",
       "9996 -0.442199  0.787223  4.497478\n",
       "9997  0.481076  0.099779  3.561028\n",
       "9998  0.128707  0.372057  0.987508\n",
       "9999  1.477574  0.198018  1.337937\n",
       "\n",
       "[10000 rows x 3 columns]"
      ]
     },
     "execution_count": 19,
     "metadata": {},
     "output_type": "execute_result"
    }
   ],
   "source": [
    "import pandas as pd\n",
    "normal_sample = np.random.normal(loc=0.0, scale=1.0, size=10000)\n",
    "random_sample = np.random.random(size=10000)\n",
    "gamma_sample = np.random.gamma(2, size=10000)\n",
    "\n",
    "df = pd.DataFrame({'normal': normal_sample, \n",
    "                   'random': random_sample, \n",
    "                   'gamma': gamma_sample})\n",
    "df"
   ]
  },
  {
   "cell_type": "code",
   "execution_count": 20,
   "id": "a536d9ec-6c28-4e78-89c1-86ea31059575",
   "metadata": {},
   "outputs": [
    {
     "data": {
      "text/html": [
       "<div>\n",
       "<style scoped>\n",
       "    .dataframe tbody tr th:only-of-type {\n",
       "        vertical-align: middle;\n",
       "    }\n",
       "\n",
       "    .dataframe tbody tr th {\n",
       "        vertical-align: top;\n",
       "    }\n",
       "\n",
       "    .dataframe thead th {\n",
       "        text-align: right;\n",
       "    }\n",
       "</style>\n",
       "<table border=\"1\" class=\"dataframe\">\n",
       "  <thead>\n",
       "    <tr style=\"text-align: right;\">\n",
       "      <th></th>\n",
       "      <th>normal</th>\n",
       "      <th>random</th>\n",
       "      <th>gamma</th>\n",
       "    </tr>\n",
       "  </thead>\n",
       "  <tbody>\n",
       "    <tr>\n",
       "      <th>count</th>\n",
       "      <td>10000.000000</td>\n",
       "      <td>10000.000000</td>\n",
       "      <td>10000.000000</td>\n",
       "    </tr>\n",
       "    <tr>\n",
       "      <th>mean</th>\n",
       "      <td>0.005792</td>\n",
       "      <td>0.495442</td>\n",
       "      <td>1.995561</td>\n",
       "    </tr>\n",
       "    <tr>\n",
       "      <th>std</th>\n",
       "      <td>1.000406</td>\n",
       "      <td>0.288219</td>\n",
       "      <td>1.419824</td>\n",
       "    </tr>\n",
       "    <tr>\n",
       "      <th>min</th>\n",
       "      <td>-4.241886</td>\n",
       "      <td>0.000247</td>\n",
       "      <td>0.024291</td>\n",
       "    </tr>\n",
       "    <tr>\n",
       "      <th>25%</th>\n",
       "      <td>-0.660524</td>\n",
       "      <td>0.241426</td>\n",
       "      <td>0.948648</td>\n",
       "    </tr>\n",
       "    <tr>\n",
       "      <th>50%</th>\n",
       "      <td>0.003579</td>\n",
       "      <td>0.495634</td>\n",
       "      <td>1.659521</td>\n",
       "    </tr>\n",
       "    <tr>\n",
       "      <th>75%</th>\n",
       "      <td>0.673012</td>\n",
       "      <td>0.740791</td>\n",
       "      <td>2.682657</td>\n",
       "    </tr>\n",
       "    <tr>\n",
       "      <th>max</th>\n",
       "      <td>3.404068</td>\n",
       "      <td>0.999882</td>\n",
       "      <td>14.761321</td>\n",
       "    </tr>\n",
       "  </tbody>\n",
       "</table>\n",
       "</div>"
      ],
      "text/plain": [
       "             normal        random         gamma\n",
       "count  10000.000000  10000.000000  10000.000000\n",
       "mean       0.005792      0.495442      1.995561\n",
       "std        1.000406      0.288219      1.419824\n",
       "min       -4.241886      0.000247      0.024291\n",
       "25%       -0.660524      0.241426      0.948648\n",
       "50%        0.003579      0.495634      1.659521\n",
       "75%        0.673012      0.740791      2.682657\n",
       "max        3.404068      0.999882     14.761321"
      ]
     },
     "execution_count": 20,
     "metadata": {},
     "output_type": "execute_result"
    }
   ],
   "source": [
    "df.describe()"
   ]
  },
  {
   "cell_type": "code",
   "execution_count": 21,
   "id": "1adef980-4021-4b10-b7fd-2c3b1caa10a5",
   "metadata": {},
   "outputs": [
    {
     "data": {
      "application/vnd.jupyter.widget-view+json": {
       "model_id": "3f1cbb9746944b33b79f09ebd43f2baf",
       "version_major": 2,
       "version_minor": 0
      },
      "text/plain": [
       "Canvas(toolbar=Toolbar(toolitems=[('Home', 'Reset original view', 'home', 'home'), ('Back', 'Back to previous …"
      ]
     },
     "metadata": {},
     "output_type": "display_data"
    },
    {
     "data": {
      "text/plain": [
       "{'whiskers': [<matplotlib.lines.Line2D at 0x1b633ea4a00>,\n",
       "  <matplotlib.lines.Line2D at 0x1b633ea4d90>],\n",
       " 'caps': [<matplotlib.lines.Line2D at 0x1b633eb4160>,\n",
       "  <matplotlib.lines.Line2D at 0x1b633eb44f0>],\n",
       " 'boxes': [<matplotlib.lines.Line2D at 0x1b633ea4670>],\n",
       " 'medians': [<matplotlib.lines.Line2D at 0x1b633eb4880>],\n",
       " 'fliers': [<matplotlib.lines.Line2D at 0x1b633eb4c10>],\n",
       " 'means': []}"
      ]
     },
     "execution_count": 21,
     "metadata": {},
     "output_type": "execute_result"
    }
   ],
   "source": [
    "plt.figure()\n",
    "# create a boxplot of the normal data, assign the output to a variable to supress output\n",
    "plt.boxplot(df['normal'], whis=np.inf)"
   ]
  },
  {
   "cell_type": "code",
   "execution_count": 22,
   "id": "ae65301b-d207-4500-a988-0b1d0acd9e4e",
   "metadata": {},
   "outputs": [],
   "source": [
    "# clear the current figure\n",
    "plt.clf()\n",
    "# plot boxplots for all three of df's columns\n",
    "_ = plt.boxplot([ df['normal'], df['random'], df['gamma'] ], whis=np.inf)"
   ]
  },
  {
   "cell_type": "code",
   "execution_count": 23,
   "id": "185ffec0-4f7a-4a1d-b298-33089ba48733",
   "metadata": {},
   "outputs": [
    {
     "data": {
      "application/vnd.jupyter.widget-view+json": {
       "model_id": "70d0a6960c814f98a3bfe2765fb520f9",
       "version_major": 2,
       "version_minor": 0
      },
      "text/plain": [
       "Canvas(toolbar=Toolbar(toolitems=[('Home', 'Reset original view', 'home', 'home'), ('Back', 'Back to previous …"
      ]
     },
     "metadata": {},
     "output_type": "display_data"
    }
   ],
   "source": [
    "plt.figure()\n",
    "_ = plt.hist(df['gamma'], bins=100)"
   ]
  },
  {
   "cell_type": "code",
   "execution_count": 24,
   "id": "cfcccf44-dd55-4c51-aa38-d40fa42c8298",
   "metadata": {},
   "outputs": [
    {
     "data": {
      "application/vnd.jupyter.widget-view+json": {
       "model_id": "70a0cebfa9164c42a4abcc3ce9f651cc",
       "version_major": 2,
       "version_minor": 0
      },
      "text/plain": [
       "Canvas(toolbar=Toolbar(toolitems=[('Home', 'Reset original view', 'home', 'home'), ('Back', 'Back to previous …"
      ]
     },
     "metadata": {},
     "output_type": "display_data"
    }
   ],
   "source": [
    "import mpl_toolkits.axes_grid1.inset_locator as mpl_il\n",
    "\n",
    "plt.figure()\n",
    "plt.boxplot([ df['normal'], df['random'], df['gamma'] ], whis=np.inf)\n",
    "# overlay axis on top of another \n",
    "ax2 = mpl_il.inset_axes(plt.gca(), width='60%', height='40%', loc=2)\n",
    "ax2.hist(df['gamma'], bins=100)\n",
    "ax2.margins(x=0.5)"
   ]
  },
  {
   "cell_type": "code",
   "execution_count": 23,
   "id": "51de7650-90ce-4295-892b-70796a24c05a",
   "metadata": {},
   "outputs": [],
   "source": [
    "# switch the y axis ticks for ax2 to the right side\n",
    "ax2.yaxis.tick_right()"
   ]
  },
  {
   "cell_type": "code",
   "execution_count": 24,
   "id": "0cf30dc7-349f-4029-9981-08cdcfa1726c",
   "metadata": {},
   "outputs": [
    {
     "data": {
      "application/vnd.jupyter.widget-view+json": {
       "model_id": "ef5aeb9db4c148e180334a70472e9b77",
       "version_major": 2,
       "version_minor": 0
      },
      "text/plain": [
       "Canvas(toolbar=Toolbar(toolitems=[('Home', 'Reset original view', 'home', 'home'), ('Back', 'Back to previous …"
      ]
     },
     "metadata": {},
     "output_type": "display_data"
    }
   ],
   "source": [
    "# if `whis` argument isn't passed, boxplot defaults to showing 1.5*interquartile (IQR) whiskers with outliers\n",
    "plt.figure()\n",
    "_ = plt.boxplot([ df['normal'], df['random'], df['gamma'] ] )"
   ]
  },
  {
   "cell_type": "markdown",
   "id": "1362c527-f123-4960-add2-4904f5b375e8",
   "metadata": {},
   "source": [
    "## Heatmaps"
   ]
  },
  {
   "cell_type": "code",
   "execution_count": 25,
   "id": "3c1254cb-f507-4dfe-9e86-faa7d3a68103",
   "metadata": {},
   "outputs": [
    {
     "data": {
      "application/vnd.jupyter.widget-view+json": {
       "model_id": "8f655be05b034ab59da85a0840498708",
       "version_major": 2,
       "version_minor": 0
      },
      "text/plain": [
       "Canvas(toolbar=Toolbar(toolitems=[('Home', 'Reset original view', 'home', 'home'), ('Back', 'Back to previous …"
      ]
     },
     "metadata": {},
     "output_type": "display_data"
    }
   ],
   "source": [
    "plt.figure()\n",
    "\n",
    "Y = np.random.normal(loc=0.0, scale=1.0, size=10000)\n",
    "X = np.random.random(size=10000)\n",
    "_ = plt.hist2d(X, Y, bins=25)"
   ]
  },
  {
   "cell_type": "code",
   "execution_count": 26,
   "id": "b169f83c-058e-4efa-9977-ca3472c64118",
   "metadata": {},
   "outputs": [
    {
     "data": {
      "application/vnd.jupyter.widget-view+json": {
       "model_id": "501b348fc3c6452f8d0dc38f481b8224",
       "version_major": 2,
       "version_minor": 0
      },
      "text/plain": [
       "Canvas(toolbar=Toolbar(toolitems=[('Home', 'Reset original view', 'home', 'home'), ('Back', 'Back to previous …"
      ]
     },
     "metadata": {},
     "output_type": "display_data"
    }
   ],
   "source": [
    "plt.figure()\n",
    "_ = plt.hist2d(X, Y, bins=100)"
   ]
  },
  {
   "cell_type": "code",
   "execution_count": 27,
   "id": "687ade48-0579-403d-8f9d-c8053964c3b5",
   "metadata": {},
   "outputs": [
    {
     "data": {
      "text/plain": [
       "<matplotlib.colorbar.Colorbar at 0x1b78c054e20>"
      ]
     },
     "execution_count": 27,
     "metadata": {},
     "output_type": "execute_result"
    }
   ],
   "source": [
    "# add a colorbar legend\n",
    "plt.colorbar()"
   ]
  },
  {
   "cell_type": "markdown",
   "id": "53f53ab1-64a2-4403-bd44-58a2933abf5b",
   "metadata": {},
   "source": [
    "## Animations"
   ]
  },
  {
   "cell_type": "code",
   "execution_count": 28,
   "id": "e1d3b92f-b2be-496a-a23b-688c472e89b1",
   "metadata": {},
   "outputs": [],
   "source": [
    "import matplotlib.animation as animation\n",
    "\n",
    "n = 100\n",
    "x = np.random.randn(n)"
   ]
  },
  {
   "cell_type": "code",
   "execution_count": 29,
   "id": "8786ad67-4948-45f3-967f-2449f962ec49",
   "metadata": {},
   "outputs": [],
   "source": [
    "# create the function that will do the plotting, where curr is the current frame\n",
    "def update(curr):\n",
    "    # check if animation is at the last frame, and if so, stop the animation a\n",
    "    if curr == n: \n",
    "        a.event_source.stop()\n",
    "    plt.cla()\n",
    "    bins = np.arange(-4, 4, 0.5)\n",
    "    plt.hist(x[:curr], bins=bins)\n",
    "    plt.axis([-4,4,0,30])\n",
    "    plt.gca().set_title('Sampling the Normal Distribution')\n",
    "    plt.gca().set_ylabel('Frequency')\n",
    "    plt.gca().set_xlabel('Value')\n",
    "    plt.annotate('n = {}'.format(curr), [3,27])"
   ]
  },
  {
   "cell_type": "code",
   "execution_count": 30,
   "id": "f70b515a-b0ed-4206-bb6d-1c5f36f27bfc",
   "metadata": {},
   "outputs": [
    {
     "data": {
      "application/vnd.jupyter.widget-view+json": {
       "model_id": "4b4e094cb7ec4f94ad68d80a89c24341",
       "version_major": 2,
       "version_minor": 0
      },
      "text/plain": [
       "Canvas(toolbar=Toolbar(toolitems=[('Home', 'Reset original view', 'home', 'home'), ('Back', 'Back to previous …"
      ]
     },
     "metadata": {},
     "output_type": "display_data"
    }
   ],
   "source": [
    "fig = plt.figure()\n",
    "a = animation.FuncAnimation(fig, update, interval=100)"
   ]
  },
  {
   "cell_type": "markdown",
   "id": "dd50256e-0bb1-4882-bfe4-ce82b3545930",
   "metadata": {},
   "source": [
    "## Interactivity"
   ]
  },
  {
   "cell_type": "code",
   "execution_count": 40,
   "id": "0a88c956-5d1a-4aba-b2dc-68edb77819cd",
   "metadata": {},
   "outputs": [
    {
     "name": "stderr",
     "output_type": "stream",
     "text": [
      "C:\\Users\\Doni\\AppData\\Local\\Temp/ipykernel_14152/3402118907.py:1: RuntimeWarning: More than 20 figures have been opened. Figures created through the pyplot interface (`matplotlib.pyplot.figure`) are retained until explicitly closed and may consume too much memory. (To control this warning, see the rcParam `figure.max_open_warning`).\n",
      "  plt.figure()\n"
     ]
    },
    {
     "data": {
      "application/vnd.jupyter.widget-view+json": {
       "model_id": "8903046cfa064768924510a4a7e54ea8",
       "version_major": 2,
       "version_minor": 0
      },
      "text/plain": [
       "Canvas(toolbar=Toolbar(toolitems=[('Home', 'Reset original view', 'home', 'home'), ('Back', 'Back to previous …"
      ]
     },
     "metadata": {},
     "output_type": "display_data"
    },
    {
     "data": {
      "text/plain": [
       "9"
      ]
     },
     "execution_count": 40,
     "metadata": {},
     "output_type": "execute_result"
    }
   ],
   "source": [
    "plt.figure()\n",
    "data = np.random.rand(10)\n",
    "plt.plot(data)\n",
    "\n",
    "def onclick(event):\n",
    "    plt.cla()\n",
    "    plt.plot(data)\n",
    "    plt.gca().set_title('Event at pixels {},{} \\nand data {},{}'.format(event.x, event.y, event.xdata, event.ydata))\n",
    "\n",
    "# tell mpl_connect we want to pass a 'button_press_event' into onclick when the event is detected\n",
    "plt.gcf().canvas.mpl_connect('button_press_event', onclick)"
   ]
  },
  {
   "cell_type": "code",
   "execution_count": 32,
   "id": "3c4fbab4-e89e-46b0-b3f2-03da04d92a01",
   "metadata": {},
   "outputs": [
    {
     "data": {
      "text/html": [
       "<div>\n",
       "<style scoped>\n",
       "    .dataframe tbody tr th:only-of-type {\n",
       "        vertical-align: middle;\n",
       "    }\n",
       "\n",
       "    .dataframe tbody tr th {\n",
       "        vertical-align: top;\n",
       "    }\n",
       "\n",
       "    .dataframe thead th {\n",
       "        text-align: right;\n",
       "    }\n",
       "</style>\n",
       "<table border=\"1\" class=\"dataframe\">\n",
       "  <thead>\n",
       "    <tr style=\"text-align: right;\">\n",
       "      <th></th>\n",
       "      <th>height</th>\n",
       "      <th>weight</th>\n",
       "      <th>origin</th>\n",
       "    </tr>\n",
       "  </thead>\n",
       "  <tbody>\n",
       "    <tr>\n",
       "      <th>0</th>\n",
       "      <td>0.605445</td>\n",
       "      <td>0.235645</td>\n",
       "      <td>Iraq</td>\n",
       "    </tr>\n",
       "    <tr>\n",
       "      <th>1</th>\n",
       "      <td>0.263074</td>\n",
       "      <td>0.742332</td>\n",
       "      <td>India</td>\n",
       "    </tr>\n",
       "    <tr>\n",
       "      <th>2</th>\n",
       "      <td>0.399715</td>\n",
       "      <td>0.108136</td>\n",
       "      <td>UK</td>\n",
       "    </tr>\n",
       "    <tr>\n",
       "      <th>3</th>\n",
       "      <td>0.201881</td>\n",
       "      <td>0.626351</td>\n",
       "      <td>Mexico</td>\n",
       "    </tr>\n",
       "    <tr>\n",
       "      <th>4</th>\n",
       "      <td>0.929690</td>\n",
       "      <td>0.142752</td>\n",
       "      <td>China</td>\n",
       "    </tr>\n",
       "    <tr>\n",
       "      <th>5</th>\n",
       "      <td>0.223458</td>\n",
       "      <td>0.801910</td>\n",
       "      <td>USA</td>\n",
       "    </tr>\n",
       "    <tr>\n",
       "      <th>6</th>\n",
       "      <td>0.150345</td>\n",
       "      <td>0.756297</td>\n",
       "      <td>Brazil</td>\n",
       "    </tr>\n",
       "    <tr>\n",
       "      <th>7</th>\n",
       "      <td>0.932012</td>\n",
       "      <td>0.273190</td>\n",
       "      <td>Germany</td>\n",
       "    </tr>\n",
       "    <tr>\n",
       "      <th>8</th>\n",
       "      <td>0.809941</td>\n",
       "      <td>0.989806</td>\n",
       "      <td>Canada</td>\n",
       "    </tr>\n",
       "    <tr>\n",
       "      <th>9</th>\n",
       "      <td>0.679906</td>\n",
       "      <td>0.727632</td>\n",
       "      <td>Chile</td>\n",
       "    </tr>\n",
       "  </tbody>\n",
       "</table>\n",
       "</div>"
      ],
      "text/plain": [
       "     height    weight   origin\n",
       "0  0.605445  0.235645     Iraq\n",
       "1  0.263074  0.742332    India\n",
       "2  0.399715  0.108136       UK\n",
       "3  0.201881  0.626351   Mexico\n",
       "4  0.929690  0.142752    China\n",
       "5  0.223458  0.801910      USA\n",
       "6  0.150345  0.756297   Brazil\n",
       "7  0.932012  0.273190  Germany\n",
       "8  0.809941  0.989806   Canada\n",
       "9  0.679906  0.727632    Chile"
      ]
     },
     "execution_count": 32,
     "metadata": {},
     "output_type": "execute_result"
    }
   ],
   "source": [
    "from random import shuffle\n",
    "origins = ['China', 'Brazil', 'India', 'USA', 'Canada', 'UK', 'Germany', 'Iraq', 'Chile', 'Mexico']\n",
    "\n",
    "shuffle(origins)\n",
    "\n",
    "df = pd.DataFrame({'height': np.random.rand(10),\n",
    "                   'weight': np.random.rand(10),\n",
    "                   'origin': origins})\n",
    "df"
   ]
  },
  {
   "cell_type": "code",
   "execution_count": 36,
   "id": "26008a23-4791-4206-9ba4-0fc3104717e8",
   "metadata": {},
   "outputs": [
    {
     "data": {
      "application/vnd.jupyter.widget-view+json": {
       "model_id": "75de26849ae1441fbddcdad7b8c101ad",
       "version_major": 2,
       "version_minor": 0
      },
      "text/plain": [
       "Canvas(toolbar=Toolbar(toolitems=[('Home', 'Reset original view', 'home', 'home'), ('Back', 'Back to previous …"
      ]
     },
     "metadata": {},
     "output_type": "display_data"
    },
    {
     "data": {
      "text/plain": [
       "Text(0.5, 0, 'Height')"
      ]
     },
     "execution_count": 36,
     "metadata": {},
     "output_type": "execute_result"
    }
   ],
   "source": [
    "plt.figure()\n",
    "# picker=5 means the mouse doesn't have to click directly on an event, but can be up to 5 pixels away\n",
    "plt.scatter(df['height'], df['weight'], picker=5)\n",
    "plt.gca().set_ylabel('Weight')\n",
    "plt.gca().set_xlabel('Height')"
   ]
  },
  {
   "cell_type": "code",
   "execution_count": 37,
   "id": "e624f731-0f58-434f-ba33-0b20f05da1f3",
   "metadata": {},
   "outputs": [
    {
     "data": {
      "text/plain": [
       "9"
      ]
     },
     "execution_count": 37,
     "metadata": {},
     "output_type": "execute_result"
    }
   ],
   "source": [
    "def onpick(event):\n",
    "    origin = df.iloc[event.ind[0]]['origin']\n",
    "    plt.gca().set_title('Selected item came from {}'.format(origin))\n",
    "\n",
    "# tell mpl_connect we want to pass a 'pick_event' into onpick when the event is detected\n",
    "plt.gcf().canvas.mpl_connect('pick_event', onpick)"
   ]
  },
  {
   "cell_type": "code",
   "execution_count": 51,
   "id": "37994178-9d8f-42b5-8715-64e5c264ea77",
   "metadata": {},
   "outputs": [
    {
     "name": "stdout",
     "output_type": "stream",
     "text": [
      "                1992           1993           1994           1995\n",
      "count    3650.000000    3650.000000    3650.000000    3650.000000\n",
      "mean    34484.080607   39975.673587   37565.689950   47798.504333\n",
      "std    150473.176164   88558.520583  120317.078777   54828.074297\n",
      "min   -528303.381600 -287127.421315 -382709.382654 -138894.685422\n",
      "25%    -67555.298773  -21665.471992  -45516.912051   11680.007981\n",
      "50%     31756.198287   41001.778992   39197.241173   49103.396625\n",
      "75%    135081.379021   99766.920131  121367.183244   84271.976610\n",
      "max    622629.206119  358327.854561  423792.855746  262363.983464\n",
      "              mean         i_min         i_max         yerr            std  \\\n",
      "1992  34484.080607  24526.128257  44442.032957  9957.952350  150452.561989   \n",
      "1993  39975.673587  34115.319328  45836.027846  5860.354259   88546.388448   \n",
      "1994  37565.689950  29603.527572  45527.852328  7962.162378  120300.595857   \n",
      "1995  47798.504333  44170.401478  51426.607188  3628.102855   54820.563088   \n",
      "\n",
      "              sem  \n",
      "1992  2489.488088  \n",
      "1993  1465.088565  \n",
      "1994  1990.540595  \n",
      "1995   907.025714  \n"
     ]
    }
   ],
   "source": [
    "import pandas as pd\n",
    "import numpy as np\n",
    "import scipy.stats as st\n",
    "\n",
    "np.random.seed(12345)\n",
    "\n",
    "df = pd.DataFrame([np.random.normal(33500,150000,3650), \n",
    "                   np.random.normal(41000,90000,3650), \n",
    "                   np.random.normal(41000,120000,3650), \n",
    "                   np.random.normal(48000,55000,3650)], \n",
    "                  index=[1992,1993,1994,1995])\n",
    "#print(df)\n",
    "print(df.T.describe())\n",
    "\n",
    "#this is right method for interval\n",
    "\n",
    "#df['i_min'], df['i_max']=st.t.interval(0.95, len(df.count(axis=1))-1, loc=df.mean(axis=1), scale=df.sem(axis=1))\n",
    "#df['yerr']=(df['i_max'].abs() - df['i_min'].abs() )\n",
    "\n",
    "df['mean']=df.mean(axis=1)\n",
    "df['std']=df.std(axis=1)\n",
    "\n",
    "#this is approximate method for interval\n",
    "df['sem']=df.sem(axis=1)\n",
    "df['i_min']=df['mean']-df['sem']*4\n",
    "df['i_max']=df['mean']+df['sem']*4\n",
    "\n",
    "df['yerr']=df['sem']*4 \n",
    "print(df[['mean', 'i_min', 'i_max', 'yerr', 'std', 'sem']])\n",
    "\n",
    "%matplotlib widget\n",
    "\n",
    "import matplotlib.pyplot as plt\n",
    "import matplotlib.ticker as ticker\n",
    "\n",
    "cl_max_color='red'\n",
    "cl_min_color='blue'\n",
    "cl_neitral_color='grey'\n",
    "\n",
    "class Cursor(object):\n",
    "    _df=None\n",
    "    _bl=None\n",
    "    def __init__(self, ax, data_F, bars):\n",
    "        self._df=data_F\n",
    "        self._bl=bars\n",
    "        self.ax = ax\n",
    "        self.lx = ax.axhline(color='b')\n",
    "\n",
    "    def mouse_move(self, event):\n",
    "        if not event.inaxes:\n",
    "            return\n",
    "        x, y = event.xdata, event.ydata\n",
    "        self.lx.set_ydata(y)\n",
    "        for index, row in self._df.iterrows():\n",
    "            if row['i_max']<y:\n",
    "                self._bl[self._df.index.get_loc(index)].set_color(cl_min_color)\n",
    "                continue\n",
    "            if row['i_min']>y:\n",
    "                self._bl[self._df.index.get_loc(index)].set_color(cl_max_color)\n",
    "                continue\n",
    "            \n",
    "            self._bl[self._df.index.get_loc(index)].set_color(cl_neitral_color)\n",
    "        plt.draw()\n",
    "\n",
    "        \n",
    "def plot_base(fix_x, fig_y, fig_title, c_alpha=0.5):\n",
    "    ax=df['mean'].plot.bar(yerr=df['yerr'], \n",
    "        title =fig_title, figsize=(fix_x, fig_y), \n",
    "        legend=False, fontsize=10, alpha=c_alpha, width=0.95, \n",
    "        rot=0, position=0, style='-', color=cl_neitral_color)\n",
    "\n",
    "    ax.spines['top'].set_visible(False)\n",
    "    ax.spines['right'].set_visible(False)\n",
    "\n",
    "    ax.spines['left'].set_position('zero')\n",
    "    ax.spines['bottom'].set_position('zero')\n",
    "\n",
    "    majors = [0.5,1.5,2.5, 3.5]\n",
    "    ax.xaxis.set_major_locator(ticker.FixedLocator(majors))\n",
    "\n",
    "    plt.tight_layout()\n",
    "    \n",
    "    return (ax, ax.get_children()[1:5])\n"
   ]
  },
  {
   "cell_type": "code",
   "execution_count": 52,
   "id": "13ee0b52",
   "metadata": {},
   "outputs": [
    {
     "data": {
      "application/vnd.jupyter.widget-view+json": {
       "model_id": "244da57f6d694d2d978a2c4f21de3429",
       "version_major": 2,
       "version_minor": 0
      },
      "text/plain": [
       "Canvas(toolbar=Toolbar(toolitems=[('Home', 'Reset original view', 'home', 'home'), ('Back', 'Back to previous …"
      ]
     },
     "metadata": {},
     "output_type": "display_data"
    },
    {
     "data": {
      "text/plain": [
       "9"
      ]
     },
     "execution_count": 52,
     "metadata": {},
     "output_type": "execute_result"
    }
   ],
   "source": [
    "from matplotlib.patches import Rectangle\n",
    "import matplotlib.pyplot as plt\n",
    "\n",
    "from collections import OrderedDict\n",
    "\n",
    "\n",
    "dct=OrderedDict( [('navy','-100%'), ('blue','-80%'), ('steelblue','-60%'), ('lightblue','-40%'), \n",
    "                ('lightcyan','-20%'), ('wheat','20%'), ('sandybrown','40%'), \n",
    "                ('salmon','60%'), ('red','80%'), ('brown','100%')] )\n",
    "\n",
    "com_alpha=0.7\n",
    "\n",
    "class CursorHard(Cursor):\n",
    "    #_colors=list(dct.keys())\n",
    "    _colors=list(reversed(dct.keys()))\n",
    "    _num_bins=8\n",
    "    def _get_color(self, d_series, val):\n",
    "        s=d_series[['i_min', 'i_max']]\n",
    "        s['val']=val\n",
    "        s=pd.cut(s, bins=self._num_bins, labels=list(range(self._num_bins)), include_lowest=False, right=True)\n",
    "        return self._colors[s['val']+1]\n",
    "\n",
    "    def mouse_move(self, event):\n",
    "        if not event.inaxes:\n",
    "            return\n",
    "        x, y = event.xdata, event.ydata\n",
    "        self.lx.set_ydata(y)\n",
    "        for index, row in self._df.iterrows():\n",
    "            if row['i_max']<y:\n",
    "                self._bl[self._df.index.get_loc(index)].set_color(self._colors[-1])\n",
    "                continue\n",
    "            if row['i_min']>y:\n",
    "                self._bl[self._df.index.get_loc(index)].set_color(self._colors[0])\n",
    "                continue\n",
    "            \n",
    "            self._bl[self._df.index.get_loc(index)].set_color(self._get_color(row, y))\n",
    "        plt.draw()\n",
    "\n",
    "ax1, barlist1=plot_base(6, 6, 'Even Harder option', c_alpha=1) \n",
    "\n",
    "bars_leg=[]\n",
    "\n",
    "for k, v in dct.items():\n",
    "    p=Rectangle((0, 0), 1, 1, fc=k, label=v)\n",
    "    bars_leg.append(p)\n",
    "\n",
    "plt.legend(loc='upper center', bbox_to_anchor=(0.5, -0.04), \n",
    "           handles=bars_leg, ncol=len(bars_leg), columnspacing=0.2, handletextpad=0.1, fontsize=7)\n",
    "\n",
    "plt.tight_layout()\n",
    "plt.show()\n",
    "\n",
    "hcursor = CursorHard(ax1, df, barlist1)\n",
    "plt.connect('motion_notify_event', hcursor.mouse_move)"
   ]
  },
  {
   "cell_type": "code",
   "execution_count": null,
   "id": "ba679071",
   "metadata": {},
   "outputs": [],
   "source": []
  }
 ],
 "metadata": {
  "kernelspec": {
   "display_name": "Python 3 (ipykernel)",
   "language": "python",
   "name": "python3"
  },
  "language_info": {
   "codemirror_mode": {
    "name": "ipython",
    "version": 3
   },
   "file_extension": ".py",
   "mimetype": "text/x-python",
   "name": "python",
   "nbconvert_exporter": "python",
   "pygments_lexer": "ipython3",
   "version": "3.9.7"
  }
 },
 "nbformat": 4,
 "nbformat_minor": 5
}
